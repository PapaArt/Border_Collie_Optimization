{
 "cells": [
  {
   "cell_type": "code",
   "execution_count": 1,
   "metadata": {},
   "outputs": [],
   "source": [
    "import csv\n",
    "import math\n",
    "import tsplib95\n",
    "import statistics\n",
    "import numpy as np\n",
    "import pandas as pd\n",
    "from scipy.special import _logsumexp"
   ]
  },
  {
   "cell_type": "markdown",
   "metadata": {},
   "source": [
    "### Normal functions of the algorithm"
   ]
  },
  {
   "cell_type": "code",
   "execution_count": 2,
   "metadata": {},
   "outputs": [],
   "source": [
    "def herding(pop: list, Vt: list, fit: list, n: int, dimension: int, acc: list, time: list) -> list:\n",
    "    \n",
    "    fit1 = np.sort(fit,kind=\"heapsort\") \n",
    "    #print(\"Fit ordenado -> \",fit1,\"\\n\")\n",
    "    idx = np.argsort(fit)\n",
    "    #print(\"Index -> \",idx,\"\\n\")\n",
    "    pop1 = np.zeros((n, dimension))\n",
    "    Vt1 = np.zeros((n, dimension))\n",
    "    acc1 = np.zeros((n, dimension))\n",
    "    time1 = np.zeros((n, dimension))\n",
    "\n",
    "    for i in range(n):\n",
    "        for j in range(dim):    \n",
    "            pop1[i, :] = pop[idx[i][j], :]\n",
    "            Vt1[i, :] = Vt[idx[i][j], :]\n",
    "        acc1[i, :] = acc[i, :]\n",
    "        time1[i] = time[i]\n",
    "    \n",
    "    return pop1, Vt1, fit1, acc1, time1"
   ]
  },
  {
   "cell_type": "code",
   "execution_count": 3,
   "metadata": {},
   "outputs": [],
   "source": [
    "def update_v(Vt: list, n: int, dimension: int, acc: list, time: list, pop: list, fit: list, eye: int) -> list:\n",
    "    #Choosing left and right dogs\n",
    "    right_dog = np.random.randint(2,3)\n",
    "    if (right_dog == 2):\n",
    "        left_dog = 3\n",
    "    else:\n",
    "        left_dog = 2\n",
    "\n",
    "    acc1 = np.ones((n,dimension))\n",
    "    time1 = np.ones((n,1))\n",
    "    Vt1 = np.copy(Vt)\n",
    "    r = len(acc)\n",
    "    l = len(acc)\n",
    "    acc2 = np.zeros((r, l))\n",
    "    fit1 = fit[l-1]\n",
    "\n",
    "    #Finding Dg value to choose which sheep to gather and which to stalk\n",
    "    fit2 = (fit[1] + fit[2]) / 2\n",
    "    f = 0\n",
    "    tempg = 0\n",
    "    temps = 0\n",
    "\n",
    "    #Setting parameters for eyeing\n",
    "    if eye == 1:\n",
    "        if fit[right_dog] < fit[left_dog]:\n",
    "            acc2[left_dog, :] = -1 * acc[left_dog, :]\n",
    "            f = left_dog\n",
    "        else:\n",
    "            acc2[right_dog, :] = -1 * acc[right_dog, :]\n",
    "            f = right_dog\n",
    "\n",
    "    for i in range(n):\n",
    "        for j in range(dimension):\n",
    "            #Velocity updation of dogs\n",
    "            if (i <= 2):\n",
    "                Vt1[i][j] = math.sqrt(np.power(Vt[i][j], 2) + (2 * acc[i][j]) * abs(pop[i][j]))\n",
    "                \n",
    "            #Velocity updation of sheep\n",
    "            if (i > 2):\n",
    "                if eye == 1:\n",
    "                    Vt1[i][j] = math.sqrt(np.power(Vt1[f][j], 2) + (2*acc2[f][j]) * abs(pop[i][j]))\n",
    "\n",
    "                else:\n",
    "                    #Velocity updation of gathered sheep\n",
    "                    if (fit1 - fit[i] > fit2 - fit[i]):\n",
    "                        Vt1[i][j] = math.sqrt(np.power(Vt1[0,j], 2) + (2*acc[0,j]))\n",
    "                        #tempg[i] = i        \n",
    "                \n",
    "                    #Velocity updation of stalked sheep\n",
    "                    if (fit1 - fit[i] <= fit2 - fit[i]):\n",
    "                        Vt1[i][j] = math.sqrt(np.power(Vt[right_dog][j]*math.tan(np.random.randint(1,89)), 2) + (2*acc[right_dog][j]*abs(pop[right_dog][j]))) + math.sqrt(np.power(Vt[left_dog][j]*math.tan(np.random.randint(91,179)), 2) + (2*acc[left_dog][j]*abs(pop[left_dog][j])))\n",
    "                        Vt1[i][j] = (Vt1[i][j]) / 2\n",
    "                        #temps[i] = i\n",
    "    \n",
    "    #Updation of time and acceleration\n",
    "    for i in range(n):\n",
    "        s = 0\n",
    "        for j in range(dimension):\n",
    "            acc1[i][j] = abs((Vt1[i][j]) - (Vt[i][j])) / (time[i][j])\n",
    "            s += (_logsumexp.logsumexp(Vt1[i][j]) - _logsumexp.logsumexp(Vt[i][j])) / acc1[i][j]\n",
    "            \n",
    "        time1[i] = abs(np.mean(s))\n",
    "\n",
    "    return Vt1, acc1, time1, right_dog, left_dog, tempg, temps"
   ]
  },
  {
   "cell_type": "code",
   "execution_count": 4,
   "metadata": {},
   "outputs": [],
   "source": [
    "def check(pop: list, n: int, dimension: int, upper_b: int, lower_b: int, acc: list, Vt: list, time: list) -> list:\n",
    "    pop1 = np.copy(pop)\n",
    "    acc1 = np.copy(acc)\n",
    "    time1 = np.copy(time)\n",
    "    Vt1 = np.copy(Vt)\n",
    "    for i in range(n):\n",
    "        for j in range(dimension):\n",
    "\n",
    "            if (pop[i][j] >= upper_b or pop[i][j] <= lower_b or pop[i][j] == 0):\n",
    "                pop1[i][j] = np.random.random() * (upper_b - lower_b) + lower_b\n",
    "                acc1[i][j] = np.random.random()\n",
    "                time1[i] = np.random.random()\n",
    "    \n",
    "    for i in range(n):\n",
    "        for j in range(dimension):\n",
    "            if (math.isnan(acc[i][j]) == 1 or acc[i][j] == 0):\n",
    "                pop1[i][j] = np.random.random() * (upper_b - lower_b) + lower_b\n",
    "                acc1[i][j] = np.random.random()\n",
    "                time1[i] = np.random.random()\n",
    "\n",
    "    for i in range(n):\n",
    "        for j in range(dimension):\n",
    "            if (math.isnan(Vt[i][j]) == 1 or Vt[i][j] == 0):\n",
    "                pop1[i][j] = np.random.random() * (upper_b - lower_b) + lower_b\n",
    "                acc1[i][j] = np.random.random()\n",
    "                time1[i] = np.random.random()\n",
    "\n",
    "    for i in range(n):\n",
    "        for j in range(dimension):\n",
    "            if (math.isnan(time1[i]) == 1 or time1[i] == 0):\n",
    "                pop1[i][j] = np.random.random() * (upper_b - lower_b) + lower_b\n",
    "                acc1[i][j] = np.random.random()\n",
    "                time1[i] = np.random.random()\n",
    "\n",
    "\n",
    "    return pop1, acc1, time1, Vt1"
   ]
  },
  {
   "cell_type": "markdown",
   "metadata": {},
   "source": [
    "### Discretization of the problem"
   ]
  },
  {
   "cell_type": "code",
   "execution_count": 5,
   "metadata": {},
   "outputs": [],
   "source": [
    "def discrete_fitness(pop, n, objf):\n",
    "    #How will discretization work for the fitness function?\n",
    "    #Change this function to made the discretization.\n",
    "    fit1 = np.copy(pop)\n",
    "\n",
    "    for i in range(len(pop)):\n",
    "        for j in range(len(objf)):\n",
    "            if fit1[i][j] == 1:\n",
    "                fit1[i][j] = objf[i][j]\n",
    "            if i == j:\n",
    "                fit1[i][j] = 0\n",
    "    \n",
    "    #best fit and position\n",
    "    best_fit = np.min(fit1)\n",
    "    pos = np.argmin(fit1)\n",
    "\n",
    "    return fit1, best_fit, pos "
   ]
  },
  {
   "cell_type": "code",
   "execution_count": 6,
   "metadata": {},
   "outputs": [],
   "source": [
    "def discrete_generate(n: int, dimension: int) -> list:\n",
    "    boundary_no = 1\n",
    "    pop = np.zeros((n, dimension))\n",
    "\n",
    "    if boundary_no == 1:\n",
    "        pop = np.random.randint(0, 1+1, size=(n,dimension))\n",
    "\n",
    "    x = np.random.random(size = (n, dimension))\n",
    "    \n",
    "    return pop, x"
   ]
  },
  {
   "cell_type": "code",
   "execution_count": 7,
   "metadata": {},
   "outputs": [],
   "source": [
    "def discretizing(value, max_value):\n",
    "    if (value >= (max_value/2)):\n",
    "        value = 1\n",
    "    else:\n",
    "        value = 0\n",
    "    \n",
    "    return value"
   ]
  },
  {
   "cell_type": "code",
   "execution_count": 8,
   "metadata": {},
   "outputs": [],
   "source": [
    "def discrete_update(Vt: list, time: list, acc: list, n: int, dimension: int, eye: int) -> list:\n",
    "    pop1 = np.zeros((n,dimension))\n",
    "    for i in range(n):\n",
    "        for j in range(dimension):\n",
    "            #Updating the position of dogs\n",
    "            if (i <= 2):\n",
    "                pop1[i][j] = discretizing(Vt[i][j], np.nanmax(Vt[i])) * discretizing(time[i], np.nanmax(time)) + (1/2) * discretizing(acc[i][j], np.nanmax(acc[i])) * (np.power(discretizing(time[i], np.nanmax(time)), 2))\n",
    "                \n",
    "            #Updating position of sheep\n",
    "            if (i > 2):\n",
    "                if eye == 1:\n",
    "                    pop1[i][j] = discretizing(Vt[i][j], np.nanmax(Vt[i])) * discretizing(time[i], np.nanmax(time)) - (1/2) * discretizing(acc[i][j], np.nanmax(acc[i])) * (np.power(discretizing(time[i], np.nanmax(time)), 2))\n",
    "                \n",
    "                else:\n",
    "                    pop1[i][j] = discretizing(Vt[i][j], np.nanmax(Vt[i])) * discretizing(time[i], np.nanmax(time)) + (1/2) * discretizing(acc[i][j], np.nanmax(acc[i])) * (np.power(discretizing(time[i], np.nanmax(time)), 2))\n",
    "                \n",
    "    return pop1"
   ]
  },
  {
   "cell_type": "markdown",
   "metadata": {},
   "source": [
    "Need to think in a way to verify the route.\n",
    "How can I fit the generation in the main algorithm?\n",
    "Use the punishment strategy to change the position of the sheeps."
   ]
  },
  {
   "cell_type": "markdown",
   "metadata": {},
   "source": [
    "### Application of TSP"
   ]
  },
  {
   "cell_type": "code",
   "execution_count": 9,
   "metadata": {},
   "outputs": [],
   "source": [
    "problem = tsplib95.load('../data/domain/bays29.tsp')"
   ]
  },
  {
   "cell_type": "code",
   "execution_count": 10,
   "metadata": {},
   "outputs": [
    {
     "ename": "ValueError",
     "evalue": "The truth value of an array with more than one element is ambiguous. Use a.any() or a.all()",
     "output_type": "error",
     "traceback": [
      "\u001b[1;31m---------------------------------------------------------------------------\u001b[0m",
      "\u001b[1;31mValueError\u001b[0m                                Traceback (most recent call last)",
      "\u001b[1;32m~\\AppData\\Local\\Temp/ipykernel_18320/3906642349.py\u001b[0m in \u001b[0;36m<module>\u001b[1;34m\u001b[0m\n\u001b[0;32m     49\u001b[0m     \u001b[0mpop\u001b[0m\u001b[1;33m,\u001b[0m \u001b[0mVt\u001b[0m\u001b[1;33m,\u001b[0m \u001b[0mfit\u001b[0m\u001b[1;33m,\u001b[0m \u001b[0macc\u001b[0m\u001b[1;33m,\u001b[0m \u001b[0mtime\u001b[0m \u001b[1;33m=\u001b[0m \u001b[0mherding\u001b[0m\u001b[1;33m(\u001b[0m\u001b[0mpop\u001b[0m\u001b[1;33m,\u001b[0m \u001b[0mVt\u001b[0m\u001b[1;33m,\u001b[0m \u001b[0mfit\u001b[0m\u001b[1;33m,\u001b[0m \u001b[0mn\u001b[0m\u001b[1;33m,\u001b[0m \u001b[0mdim\u001b[0m\u001b[1;33m,\u001b[0m \u001b[0macc\u001b[0m\u001b[1;33m,\u001b[0m \u001b[0mtime\u001b[0m\u001b[1;33m)\u001b[0m\u001b[1;33m\u001b[0m\u001b[1;33m\u001b[0m\u001b[0m\n\u001b[0;32m     50\u001b[0m \u001b[1;33m\u001b[0m\u001b[0m\n\u001b[1;32m---> 51\u001b[1;33m     \u001b[0mVt\u001b[0m\u001b[1;33m,\u001b[0m \u001b[0macc\u001b[0m\u001b[1;33m,\u001b[0m \u001b[0mtime\u001b[0m\u001b[1;33m,\u001b[0m \u001b[0mr1\u001b[0m\u001b[1;33m,\u001b[0m \u001b[0ml1\u001b[0m\u001b[1;33m,\u001b[0m \u001b[0mtempg\u001b[0m\u001b[1;33m,\u001b[0m \u001b[0mtemps\u001b[0m \u001b[1;33m=\u001b[0m \u001b[0mupdate_v\u001b[0m\u001b[1;33m(\u001b[0m\u001b[0mVt\u001b[0m\u001b[1;33m,\u001b[0m \u001b[0mn\u001b[0m\u001b[1;33m,\u001b[0m \u001b[0mdim\u001b[0m\u001b[1;33m,\u001b[0m \u001b[0macc\u001b[0m\u001b[1;33m,\u001b[0m \u001b[0mtime\u001b[0m\u001b[1;33m,\u001b[0m \u001b[0mpop\u001b[0m\u001b[1;33m,\u001b[0m \u001b[0mfit\u001b[0m\u001b[1;33m,\u001b[0m \u001b[0meye\u001b[0m\u001b[1;33m)\u001b[0m\u001b[1;33m\u001b[0m\u001b[1;33m\u001b[0m\u001b[0m\n\u001b[0m\u001b[0;32m     52\u001b[0m \u001b[1;33m\u001b[0m\u001b[0m\n\u001b[0;32m     53\u001b[0m     \u001b[0mpop\u001b[0m \u001b[1;33m=\u001b[0m \u001b[0mdiscrete_update\u001b[0m\u001b[1;33m(\u001b[0m\u001b[0mVt\u001b[0m\u001b[1;33m,\u001b[0m \u001b[0mtime\u001b[0m\u001b[1;33m,\u001b[0m \u001b[0macc\u001b[0m\u001b[1;33m,\u001b[0m \u001b[0mn\u001b[0m\u001b[1;33m,\u001b[0m \u001b[0mdim\u001b[0m\u001b[1;33m,\u001b[0m \u001b[0meye\u001b[0m\u001b[1;33m)\u001b[0m\u001b[1;33m\u001b[0m\u001b[1;33m\u001b[0m\u001b[0m\n",
      "\u001b[1;32m~\\AppData\\Local\\Temp/ipykernel_18320/2702834189.py\u001b[0m in \u001b[0;36mupdate_v\u001b[1;34m(Vt, n, dimension, acc, time, pop, fit, eye)\u001b[0m\n\u001b[0;32m     43\u001b[0m                 \u001b[1;32melse\u001b[0m\u001b[1;33m:\u001b[0m\u001b[1;33m\u001b[0m\u001b[1;33m\u001b[0m\u001b[0m\n\u001b[0;32m     44\u001b[0m                     \u001b[1;31m#Velocity updation of gathered sheep\u001b[0m\u001b[1;33m\u001b[0m\u001b[1;33m\u001b[0m\u001b[0m\n\u001b[1;32m---> 45\u001b[1;33m                     \u001b[1;32mif\u001b[0m \u001b[1;33m(\u001b[0m\u001b[0mfit1\u001b[0m \u001b[1;33m-\u001b[0m \u001b[0mfit\u001b[0m\u001b[1;33m[\u001b[0m\u001b[0mi\u001b[0m\u001b[1;33m]\u001b[0m \u001b[1;33m>\u001b[0m \u001b[0mfit2\u001b[0m \u001b[1;33m-\u001b[0m \u001b[0mfit\u001b[0m\u001b[1;33m[\u001b[0m\u001b[0mi\u001b[0m\u001b[1;33m]\u001b[0m\u001b[1;33m)\u001b[0m\u001b[1;33m:\u001b[0m\u001b[1;33m\u001b[0m\u001b[1;33m\u001b[0m\u001b[0m\n\u001b[0m\u001b[0;32m     46\u001b[0m                         \u001b[0mVt1\u001b[0m\u001b[1;33m[\u001b[0m\u001b[0mi\u001b[0m\u001b[1;33m]\u001b[0m\u001b[1;33m[\u001b[0m\u001b[0mj\u001b[0m\u001b[1;33m]\u001b[0m \u001b[1;33m=\u001b[0m \u001b[0mmath\u001b[0m\u001b[1;33m.\u001b[0m\u001b[0msqrt\u001b[0m\u001b[1;33m(\u001b[0m\u001b[0mnp\u001b[0m\u001b[1;33m.\u001b[0m\u001b[0mpower\u001b[0m\u001b[1;33m(\u001b[0m\u001b[0mVt1\u001b[0m\u001b[1;33m[\u001b[0m\u001b[1;36m0\u001b[0m\u001b[1;33m,\u001b[0m\u001b[0mj\u001b[0m\u001b[1;33m]\u001b[0m\u001b[1;33m,\u001b[0m \u001b[1;36m2\u001b[0m\u001b[1;33m)\u001b[0m \u001b[1;33m+\u001b[0m \u001b[1;33m(\u001b[0m\u001b[1;36m2\u001b[0m\u001b[1;33m*\u001b[0m\u001b[0macc\u001b[0m\u001b[1;33m[\u001b[0m\u001b[1;36m0\u001b[0m\u001b[1;33m,\u001b[0m\u001b[0mj\u001b[0m\u001b[1;33m]\u001b[0m\u001b[1;33m)\u001b[0m\u001b[1;33m)\u001b[0m\u001b[1;33m\u001b[0m\u001b[1;33m\u001b[0m\u001b[0m\n\u001b[0;32m     47\u001b[0m                         \u001b[1;31m#tempg[i] = i\u001b[0m\u001b[1;33m\u001b[0m\u001b[1;33m\u001b[0m\u001b[0m\n",
      "\u001b[1;31mValueError\u001b[0m: The truth value of an array with more than one element is ambiguous. Use a.any() or a.all()"
     ]
    }
   ],
   "source": [
    "#Population size\n",
    "n = problem.dimension\n",
    "\n",
    "#Maximum no. of iterations\n",
    "gen = 200\n",
    "\n",
    "#Optimization function name\n",
    "dim = problem.dimension\n",
    "\n",
    "#Intialize the population(init_p-Population,acc-acceleration of each individual)\n",
    "init_p, acc = discrete_generate(n, dim)\n",
    "\n",
    "#Vt = velocity of each individuals\n",
    "Vt = np.zeros((n, dim))\n",
    "\n",
    "#Time of each individual\n",
    "time = np.random.random(size = (n,1))\n",
    "\n",
    "#Max fitness value/\n",
    "fopt = math.inf\n",
    "#Variable to store fitness\n",
    "fit = np.zeros((n, 1))\n",
    "pop = init_p\n",
    "#k = counter variable for iterations required for Eyeing mechanism\n",
    "k = 1\n",
    "fopt_1 = np.zeros((gen, 1))\n",
    "\n",
    "for g in range(gen):\n",
    "    #Calculate fitness of indivuals\n",
    "    fit, maxf, pos = discrete_fitness(pop, n, getattr(problem, 'edge_weights'))\n",
    "    #print(\"Fit -> \",fit,\"\\n\")\n",
    "    maxf = 1\n",
    "    eye = 0\n",
    "    if g == 0:\n",
    "        fopt = maxf\n",
    "    \n",
    "    #Finding the optimum fitness value\n",
    "    if fopt > maxf:\n",
    "        fopt = maxf\n",
    "    \n",
    "    fopt_1[g] = fopt\n",
    "    if g > 0:\n",
    "        if fopt_1[g] > fopt_1[g-1]:\n",
    "            k += 1\n",
    "            if k > 5:\n",
    "                eye = 1\n",
    "                k = 0\n",
    "    \n",
    "    pop, Vt, fit, acc, time = herding(pop, Vt, fit, n, dim, acc, time)\n",
    "\n",
    "    Vt, acc, time, r1, l1, tempg, temps = update_v(Vt, n, dim, acc, time, pop, fit, eye)\n",
    "\n",
    "    pop = discrete_update(Vt, time, acc, n, dim, eye)\n",
    "\n",
    "    pop, acc, time, Vt = check(pop, n, dim, upper_b, lower_b, acc, Vt, time)"
   ]
  },
  {
   "cell_type": "markdown",
   "metadata": {},
   "source": []
  }
 ],
 "metadata": {
  "interpreter": {
   "hash": "5f1b78eb436411a9c3c2406ff65dd6a2a483e2b78ec2ae8c1343ef3e593983b6"
  },
  "kernelspec": {
   "display_name": "Python 3.9.7 ('base')",
   "language": "python",
   "name": "python3"
  },
  "language_info": {
   "codemirror_mode": {
    "name": "ipython",
    "version": 3
   },
   "file_extension": ".py",
   "mimetype": "text/x-python",
   "name": "python",
   "nbconvert_exporter": "python",
   "pygments_lexer": "ipython3",
   "version": "3.9.7"
  },
  "orig_nbformat": 4
 },
 "nbformat": 4,
 "nbformat_minor": 2
}
