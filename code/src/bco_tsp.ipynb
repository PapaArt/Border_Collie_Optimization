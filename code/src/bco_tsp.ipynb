{
 "cells": [
  {
   "cell_type": "code",
   "execution_count": 1,
   "metadata": {},
   "outputs": [],
   "source": [
    "import csv\n",
    "import math\n",
    "import tsplib95\n",
    "import statistics\n",
    "import benchmarks\n",
    "import numpy as np\n",
    "import pandas as pd\n",
    "from scipy.special import _logsumexp"
   ]
  },
  {
   "cell_type": "code",
   "execution_count": 2,
   "metadata": {},
   "outputs": [],
   "source": [
    "problem = tsplib95.load('../data/bays29.tsp')"
   ]
  },
  {
   "cell_type": "markdown",
   "metadata": {},
   "source": [
    "### Normal functions of the algorithm"
   ]
  },
  {
   "cell_type": "code",
   "execution_count": 3,
   "metadata": {},
   "outputs": [],
   "source": [
    "def herding(pop: list, Vt: list, fit: list, n: int, dimension: int, acc: list, time: list) -> list:\n",
    "    \n",
    "    fit1 = np.sort(fit, axis=0,kind=\"heapsort\") \n",
    "    idx = np.argsort(fit, axis=0)\n",
    "    pop1 = np.zeros((n, dimension))\n",
    "    Vt1 = np.zeros((n, dimension))\n",
    "    acc1 = np.zeros((n, dimension))\n",
    "    time1 = np.zeros((n, dimension))\n",
    "\n",
    "    for i in range(n):\n",
    "        \n",
    "        pop1[i, :] = pop[idx[i], :]\n",
    "        Vt1[i, :] = Vt[idx[i], :]\n",
    "        acc1[i, :] = acc[i, :]\n",
    "        time1[i] = time[i]\n",
    "    \n",
    "    return pop1, Vt1, fit1, acc1, time1"
   ]
  },
  {
   "cell_type": "code",
   "execution_count": 5,
   "metadata": {},
   "outputs": [],
   "source": [
    "def update_v(Vt: list, n: int, dimension: int, acc: list, time: list, pop: list, fit: list, eye: int) -> list:\n",
    "    #Choosing left and right dogs\n",
    "    right_dog = np.random.randint(2,3)\n",
    "    if (right_dog == 2):\n",
    "        left_dog = 3\n",
    "    else:\n",
    "        left_dog = 2\n",
    "\n",
    "    acc1 = np.ones((n,dimension))\n",
    "    time1 = np.ones((n,1))\n",
    "    Vt1 = np.copy(Vt)\n",
    "    r = len(acc)\n",
    "    l = len(acc)\n",
    "    acc2 = np.zeros((r, l))\n",
    "    fit1 = fit[l-1]\n",
    "\n",
    "    #Finding Dg value to choose which sheep to gather and which to stalk\n",
    "    fit2 = (fit[1] + fit[2]) / 2\n",
    "    f = 0\n",
    "    tempg = 0\n",
    "    temps = 0\n",
    "\n",
    "    #Setting parameters for eyeing\n",
    "    if eye == 1:\n",
    "        if fit[right_dog] < fit[left_dog]:\n",
    "            acc2[left_dog, :] = -1 * acc[left_dog, :]\n",
    "            f = left_dog\n",
    "        else:\n",
    "            acc2[right_dog, :] = -1 * acc[right_dog, :]\n",
    "            f = right_dog\n",
    "\n",
    "    for i in range(n):\n",
    "        for j in range(dimension):\n",
    "            #Velocity updation of dogs\n",
    "            if (i <= 2):\n",
    "                Vt1[i][j] = math.sqrt(np.power(Vt[i][j], 2) + (2 * acc[i][j]) * abs(pop[i][j]))\n",
    "                \n",
    "            #Velocity updation of sheep\n",
    "            if (i > 2):\n",
    "                if eye == 1:\n",
    "                    Vt1[i][j] = math.sqrt(np.power(Vt1[f][j], 2) + (2*acc2[f][j]) * abs(pop[i][j]))\n",
    "\n",
    "                else:\n",
    "                    #Velocity updation of gathered sheep\n",
    "                    if (fit1 - fit[i] > fit2 - fit[i]):\n",
    "                        Vt1[i][j] = math.sqrt(np.power(Vt1[0,j], 2) + (2*acc[0,j]))\n",
    "                        #tempg[i] = i        \n",
    "                \n",
    "                    #Velocity updation of stalked sheep\n",
    "                    if (fit1 - fit[i] <= fit2 - fit[i]):\n",
    "                        Vt1[i][j] = math.sqrt(np.power(Vt[right_dog][j]*math.tan(np.random.randint(1,89)), 2) + (2*acc[right_dog][j]*abs(pop[right_dog][j]))) + math.sqrt(np.power(Vt[left_dog][j]*math.tan(np.random.randint(91,179)), 2) + (2*acc[left_dog][j]*abs(pop[left_dog][j])))\n",
    "                        Vt1[i][j] = (Vt1[i][j]) / 2\n",
    "                        #temps[i] = i\n",
    "    \n",
    "    #Updation of time and acceleration\n",
    "    for i in range(n):\n",
    "        s = 0\n",
    "        for j in range(dimension):\n",
    "            acc1[i][j] = abs((Vt1[i][j]) - (Vt[i][j])) / (time[i][j])\n",
    "            s += (_logsumexp.logsumexp(Vt1[i][j]) - _logsumexp.logsumexp(Vt[i][j])) / acc1[i][j]\n",
    "            \n",
    "        time1[i] = abs(np.mean(s))\n",
    "\n",
    "    return Vt1, acc1, time1, right_dog, left_dog, tempg, temps"
   ]
  },
  {
   "cell_type": "code",
   "execution_count": 6,
   "metadata": {},
   "outputs": [],
   "source": [
    "def check(pop: list, n: int, dimension: int, upper_b: int, lower_b: int, acc: list, Vt: list, time: list) -> list:\n",
    "    pop1 = np.copy(pop)\n",
    "    acc1 = np.copy(acc)\n",
    "    time1 = np.copy(time)\n",
    "    Vt1 = np.copy(Vt)\n",
    "    for i in range(n):\n",
    "        for j in range(dimension):\n",
    "\n",
    "            if (pop[i][j] >= upper_b or pop[i][j] <= lower_b or pop[i][j] == 0):\n",
    "                pop1[i][j] = np.random.random() * (upper_b - lower_b) + lower_b\n",
    "                acc1[i][j] = np.random.random()\n",
    "                time1[i] = np.random.random()\n",
    "    \n",
    "    for i in range(n):\n",
    "        for j in range(dimension):\n",
    "            if (math.isnan(acc[i][j]) == 1 or acc[i][j] == 0):\n",
    "                pop1[i][j] = np.random.random() * (upper_b - lower_b) + lower_b\n",
    "                acc1[i][j] = np.random.random()\n",
    "                time1[i] = np.random.random()\n",
    "\n",
    "    for i in range(n):\n",
    "        for j in range(dimension):\n",
    "            if (math.isnan(Vt[i][j]) == 1 or Vt[i][j] == 0):\n",
    "                pop1[i][j] = np.random.random() * (upper_b - lower_b) + lower_b\n",
    "                acc1[i][j] = np.random.random()\n",
    "                time1[i] = np.random.random()\n",
    "\n",
    "    for i in range(n):\n",
    "        for j in range(dimension):\n",
    "            if (math.isnan(time1[i]) == 1 or time1[i] == 0):\n",
    "                pop1[i][j] = np.random.random() * (upper_b - lower_b) + lower_b\n",
    "                acc1[i][j] = np.random.random()\n",
    "                time1[i] = np.random.random()\n",
    "\n",
    "\n",
    "    return pop1, acc1, time1, Vt1"
   ]
  },
  {
   "cell_type": "code",
   "execution_count": null,
   "metadata": {},
   "outputs": [],
   "source": []
  },
  {
   "cell_type": "markdown",
   "metadata": {},
   "source": [
    "### Discretization of the problem"
   ]
  },
  {
   "cell_type": "code",
   "execution_count": null,
   "metadata": {},
   "outputs": [],
   "source": []
  },
  {
   "cell_type": "code",
   "execution_count": null,
   "metadata": {},
   "outputs": [],
   "source": []
  },
  {
   "cell_type": "markdown",
   "metadata": {},
   "source": [
    "### Application of TSP"
   ]
  },
  {
   "cell_type": "markdown",
   "metadata": {},
   "source": []
  }
 ],
 "metadata": {
  "interpreter": {
   "hash": "916dbcbb3f70747c44a77c7bcd40155683ae19c65e1c03b4aa3499c5328201f1"
  },
  "kernelspec": {
   "display_name": "Python 3.8.10 64-bit",
   "language": "python",
   "name": "python3"
  },
  "language_info": {
   "codemirror_mode": {
    "name": "ipython",
    "version": 3
   },
   "file_extension": ".py",
   "mimetype": "text/x-python",
   "name": "python",
   "nbconvert_exporter": "python",
   "pygments_lexer": "ipython3",
   "version": "3.8.10"
  },
  "orig_nbformat": 4
 },
 "nbformat": 4,
 "nbformat_minor": 2
}
