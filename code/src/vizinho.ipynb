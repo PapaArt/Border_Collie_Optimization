{
 "cells": [
  {
   "cell_type": "code",
   "execution_count": 77,
   "metadata": {},
   "outputs": [],
   "source": [
    "import numpy as np\n",
    "import math\n",
    "import tsplib95\n",
    "import copy"
   ]
  },
  {
   "cell_type": "code",
   "execution_count": 78,
   "metadata": {},
   "outputs": [],
   "source": [
    "problem = tsplib95.load('../data/bays29.tsp')"
   ]
  },
  {
   "cell_type": "code",
   "execution_count": 79,
   "metadata": {},
   "outputs": [],
   "source": [
    "def nn_tsp(cities: list, weight: list) -> list:\n",
    "    distance = 0\n",
    "    i = 0\n",
    "    start = list(cities.get_nodes())[0] - 1\n",
    "    tour = [start]\n",
    "    unvisited = list(cities.get_nodes())[0:28]\n",
    "    weight_copy = copy.deepcopy(weight)\n",
    "    \n",
    "    while unvisited:\n",
    "        masked_w = np.ma.masked_equal(weight_copy, 0, copy=True)\n",
    "        \n",
    "        C = np.min(masked_w[tour[i]])\n",
    "        location = weight_copy[tour[i]].index(np.min(masked_w[tour[i]]))\n",
    "        \n",
    "        if (location in unvisited):\n",
    "            weight_copy[location][tour[i]] = 0\n",
    "            tour.append(location)\n",
    "            distance += C\n",
    "            unvisited.remove(location)\n",
    "            i += 1\n",
    "        else:\n",
    "            weight_copy[tour[i]][location] = 0\n",
    "    C = masked_w[tour[i]][0]\n",
    "    distance += C\n",
    "    tour.append(-1)\n",
    "\n",
    "    return tour, distance"
   ]
  },
  {
   "cell_type": "code",
   "execution_count": 80,
   "metadata": {},
   "outputs": [],
   "source": [
    "cities = problem\n",
    "weight = cities.edge_weights"
   ]
  },
  {
   "cell_type": "code",
   "execution_count": 81,
   "metadata": {},
   "outputs": [
    {
     "data": {
      "text/plain": [
       "([0,\n",
       "  27,\n",
       "  5,\n",
       "  11,\n",
       "  8,\n",
       "  4,\n",
       "  25,\n",
       "  28,\n",
       "  2,\n",
       "  1,\n",
       "  20,\n",
       "  19,\n",
       "  9,\n",
       "  3,\n",
       "  14,\n",
       "  17,\n",
       "  13,\n",
       "  21,\n",
       "  16,\n",
       "  10,\n",
       "  18,\n",
       "  15,\n",
       "  26,\n",
       "  23,\n",
       "  7,\n",
       "  22,\n",
       "  24,\n",
       "  6,\n",
       "  12,\n",
       "  -1],\n",
       " 2258)"
      ]
     },
     "execution_count": 81,
     "metadata": {},
     "output_type": "execute_result"
    }
   ],
   "source": [
    "nn_tsp(cities, weight)"
   ]
  },
  {
   "cell_type": "code",
   "execution_count": 82,
   "metadata": {},
   "outputs": [],
   "source": [
    "def cost_change(weight: list, n1: int, n2: int, n3: int, n4: int) -> int:\n",
    "    return weight[n1][n3] + weight[n2][n4] - weight[n1][n2] - weight[n3][n4]\n",
    "\n",
    "def two_opt(cities: list, weight: list, start: int) -> list:\n",
    "    best = cities\n",
    "    improved = True\n",
    "    result = 0\n",
    "    while improved:\n",
    "        improved = False\n",
    "        for i in range(1, len(cities) - 2):\n",
    "            for j in range(i + 1, len(cities) - 2):\n",
    "                if j - i == 1: continue\n",
    "                if cost_change(weight, best[i-1], best[i], best[j-1], best[j]) < 0:\n",
    "                    best[i:j] = best[j-1:i-1:-1]\n",
    "                    improved = True\n",
    "        cities = best\n",
    "    \n",
    "    for p in range(len(best) - 2):\n",
    "        result += weight[best[p]][best[p+1]]\n",
    "        \n",
    "    last = best[p+1]\n",
    "    result += weight[last][start]\n",
    "\n",
    "    return best, result, start \n",
    "\n",
    "def nn_tsp_modified(cities: list, weight: list) -> list:\n",
    "    distance = 0\n",
    "    i = 0\n",
    "    start = list(cities.get_nodes())[np.random.randint(0, 28)] - 1\n",
    "    tour = [start]\n",
    "    unvisited = list(cities.get_nodes())[0:28]\n",
    "    weight_copy = copy.deepcopy(weight)\n",
    "\n",
    "    if start != 0:\n",
    "        unvisited.remove(start)\n",
    "        unvisited.append(0)\n",
    "    \n",
    "    while unvisited:\n",
    "        masked_w = np.ma.masked_equal(weight_copy, 0, copy=True)\n",
    "        \n",
    "        C = np.min(masked_w[tour[i]])\n",
    "        location = weight_copy[tour[i]].index(np.min(masked_w[tour[i]]))\n",
    "        \n",
    "        if (location in unvisited):\n",
    "            weight_copy[location][tour[i]] = 0\n",
    "            tour.append(location)\n",
    "            distance += C\n",
    "            unvisited.remove(location)\n",
    "            i += 1\n",
    "        else:\n",
    "            weight_copy[tour[i]][location] = 0\n",
    "            \n",
    "    C = masked_w[tour[i]][0]\n",
    "    distance += C\n",
    "    tour.append(-1)\n",
    "    \n",
    "    return two_opt(tour, weight, start)"
   ]
  },
  {
   "cell_type": "code",
   "execution_count": 83,
   "metadata": {},
   "outputs": [
    {
     "data": {
      "text/plain": [
       "([13,\n",
       "  17,\n",
       "  14,\n",
       "  3,\n",
       "  9,\n",
       "  19,\n",
       "  1,\n",
       "  2,\n",
       "  28,\n",
       "  25,\n",
       "  4,\n",
       "  8,\n",
       "  11,\n",
       "  5,\n",
       "  27,\n",
       "  0,\n",
       "  20,\n",
       "  12,\n",
       "  23,\n",
       "  7,\n",
       "  26,\n",
       "  22,\n",
       "  15,\n",
       "  18,\n",
       "  24,\n",
       "  6,\n",
       "  10,\n",
       "  21,\n",
       "  16,\n",
       "  -1],\n",
       " 2082,\n",
       " 13)"
      ]
     },
     "execution_count": 83,
     "metadata": {},
     "output_type": "execute_result"
    }
   ],
   "source": [
    "nn_tsp_modified(cities, weight)"
   ]
  },
  {
   "cell_type": "code",
   "execution_count": null,
   "metadata": {},
   "outputs": [],
   "source": []
  }
 ],
 "metadata": {
  "interpreter": {
   "hash": "916dbcbb3f70747c44a77c7bcd40155683ae19c65e1c03b4aa3499c5328201f1"
  },
  "kernelspec": {
   "display_name": "Python 3.8.10 64-bit",
   "name": "python3"
  },
  "language_info": {
   "codemirror_mode": {
    "name": "ipython",
    "version": 3
   },
   "file_extension": ".py",
   "mimetype": "text/x-python",
   "name": "python",
   "nbconvert_exporter": "python",
   "pygments_lexer": "ipython3",
   "version": "3.8.10"
  },
  "orig_nbformat": 4
 },
 "nbformat": 4,
 "nbformat_minor": 2
}
