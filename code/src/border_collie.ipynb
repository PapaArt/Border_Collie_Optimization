{
 "cells": [
  {
   "cell_type": "code",
   "execution_count": 2,
   "metadata": {},
   "outputs": [],
   "source": [
    "import tsplib95\n",
    "import numpy as np\n",
    "import pandas as pd\n",
    "import math"
   ]
  },
  {
   "cell_type": "markdown",
   "metadata": {},
   "source": [
    "### Functions that will be called in the principal code"
   ]
  },
  {
   "cell_type": "code",
   "execution_count": 3,
   "metadata": {},
   "outputs": [],
   "source": [
    "def fitness(init_pop, n, dimension, upper_b, lower_b, fobj):\n",
    "    fit1 = np.zeros(n,1)\n",
    "\n",
    "    for i in range(init_pop, 1):\n",
    "        fit1[i] = fobj[init_pop[i:]]\n",
    "    \n",
    "    [best_fit, idx] = np.min(fit1)\n",
    "    pos = idx\n",
    "\n",
    "    return fit1, best_fit, pos"
   ]
  },
  {
   "cell_type": "code",
   "execution_count": 4,
   "metadata": {},
   "outputs": [],
   "source": [
    "def herding(pop, Vt, fit, n, dimension, acc, time):\n",
    "    [fit1, idx] = np.sort(fit);\n",
    "    pop1 = np.zeros(n, dimension)\n",
    "    Vt1 = np.zeros(n, dimension)\n",
    "    acc1 = np.zeros(n, dimension)\n",
    "    time1 = np.zeros(n, dimension)\n",
    "    \n",
    "    for i in range(1, n):\n",
    "        pop1[i, :] = pop[idx[i], :]\n",
    "        Vt1[i, :] = Vt[idx[i], :]\n",
    "        acc1[i, :] = acc[i, :]\n",
    "        time1[i] = time[i]\n",
    "    \n",
    "    return pop1, Vt1, acc1, time1"
   ]
  },
  {
   "cell_type": "code",
   "execution_count": 5,
   "metadata": {},
   "outputs": [],
   "source": [
    "def generate(n, dimension, upper_b, lower_b):\n",
    "    boundary_no = np.size(upper_b, 2)\n",
    "    acc = np.zeros(n, dimension)\n",
    "\n",
    "    if boundary_no == 1:\n",
    "        acc = np.random.random(size = (n, dimension)) * ((upper_b - lower_b) + lower_b)\n",
    "\n",
    "    if boundary_no > 1:\n",
    "        for i in range(1, dimension):\n",
    "            upper_i = upper_b[i]\n",
    "            lower_i = lower_b[i]\n",
    "            #Entender a linha de codigo abaixo\n",
    "            #Positions(:,i)=rand(n,1).*(ub_i-lb_i)+lb_i;\n",
    "\n",
    "    x = np.random.random(size = (n, dimension))\n",
    "    M = acc\n",
    "\n",
    "    return M, x"
   ]
  },
  {
   "cell_type": "code",
   "execution_count": 6,
   "metadata": {},
   "outputs": [],
   "source": [
    "def update(pop, Vt, time, acc, n, dimension, eye):\n",
    "    pop1 = np.zeros(n, dimension)\n",
    "    for i in range(1, n):\n",
    "        for j in range(1, dimension):\n",
    "            #Updating the position of dogs\n",
    "            if (i <= 3):\n",
    "                pop1[i,j] = Vt[i,j] * time[i] + (1/2) * acc[i,j] * (time[i]^2)\n",
    "            \n",
    "            #Updating position of sheep\n",
    "            if (i > 3):\n",
    "                if eye == 1:\n",
    "                    pop1[i,j] = Vt[i,j] * time[i] - (1/2) * acc[i,j] * (time[i]^2)\n",
    "                else:\n",
    "                    pop1[i,j] = Vt[i,j] * time[i] + (1/2) * acc[i,j] * (time[i]^2)\n",
    "            \n",
    "    return pop1"
   ]
  },
  {
   "cell_type": "code",
   "execution_count": null,
   "metadata": {},
   "outputs": [],
   "source": []
  },
  {
   "cell_type": "code",
   "execution_count": 15,
   "metadata": {},
   "outputs": [],
   "source": [
    "def check(pop, n, dimension, upper_b, lower_b, acc, Vt, time):\n",
    "    pop1 = pop\n",
    "    acc1 = acc\n",
    "    time1 = time\n",
    "    Vt1 = Vt\n",
    "    for i in range(1, n):\n",
    "        for j in range(1, dimension):\n",
    "\n",
    "            if (pop[i,j] >= upper_b or pop[i,j] <= lower_b or pop[i,j] == 0):\n",
    "                pop1[i,j] = np.random.random() * (upper_b - lower_b) + lower_b\n",
    "                acc1[i,j] = np.random.random()\n",
    "                time1[i] = np.random.random()\n",
    "    \n",
    "    for i in range(1, n):\n",
    "        for j in range(1, dimension):\n",
    "            if (math.isnan(acc[i,j]) == 1 or acc[i,j] == 0):\n",
    "                pop1[i,j] = np.random.random() * (upper_b - lower_b) + lower_b\n",
    "                acc1[i,j] = np.random.random()\n",
    "                time1[i] = np.random.random()\n",
    "\n",
    "    for i in range(1, n):\n",
    "        for j in range(1, dimension):\n",
    "            if (math.isnan(Vt[i,j]) == 1 or Vt[i,j] == 0):\n",
    "                pop1[i,j] = np.random.random() * (upper_b - lower_b) + lower_b\n",
    "                acc1[i,j] = np.random.random()\n",
    "                time1[i] = np.random.random()\n",
    "\n",
    "    for i in range(1, n):\n",
    "        for j in range(1, dimension):\n",
    "            if (math.isnan(time1[i]) == 1 or time1[i] == 0):\n",
    "                pop1[i,j] = np.random.random() * (upper_b - lower_b) + lower_b\n",
    "                acc1[i,j] = np.random.random()\n",
    "                time1[i] = np.random.random()\n",
    "\n",
    "\n",
    "    return pop1, acc1, time1, Vt1"
   ]
  },
  {
   "cell_type": "code",
   "execution_count": null,
   "metadata": {},
   "outputs": [],
   "source": []
  }
 ],
 "metadata": {
  "interpreter": {
   "hash": "916dbcbb3f70747c44a77c7bcd40155683ae19c65e1c03b4aa3499c5328201f1"
  },
  "kernelspec": {
   "display_name": "Python 3.8.10 64-bit",
   "language": "python",
   "name": "python3"
  },
  "language_info": {
   "codemirror_mode": {
    "name": "ipython",
    "version": 3
   },
   "file_extension": ".py",
   "mimetype": "text/x-python",
   "name": "python",
   "nbconvert_exporter": "python",
   "pygments_lexer": "ipython3",
   "version": "3.8.10"
  },
  "orig_nbformat": 4
 },
 "nbformat": 4,
 "nbformat_minor": 2
}
