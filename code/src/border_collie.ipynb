{
 "cells": [
  {
   "cell_type": "code",
   "execution_count": 2,
   "metadata": {},
   "outputs": [],
   "source": [
    "import tsplib95\n",
    "import numpy as np\n",
    "import pandas as pd\n",
    "import math"
   ]
  },
  {
   "cell_type": "code",
   "execution_count": 4,
   "metadata": {},
   "outputs": [],
   "source": [
    "def fitness(init_pop, n, dimension, upper_b, lower_b, fobj):\n",
    "    fit1 = np.zeros(n,1)\n",
    "\n",
    "    for i in range(init_pop, 1):\n",
    "        fit1[i] = fobj[init_pop[i:]]\n",
    "    \n",
    "    [best_fit, idx] = np.min(fit1)\n",
    "    pos = idx\n",
    "\n",
    "    return fit1, best_fit, pos"
   ]
  },
  {
   "cell_type": "code",
   "execution_count": 5,
   "metadata": {},
   "outputs": [],
   "source": [
    "def herding(population, Vt, fit, n, dimension, acc, time):\n",
    "    [fit1, idx] = np.sort(fit);\n",
    "    pop1 = np.zeros(n, dimension)\n",
    "    Vt1 = np.zeros(n, dimension)\n",
    "    acc1 = np.zeros(n, dimension)\n",
    "    time1 = np.zeros(n, dimension)\n",
    "    \n",
    "    for i in range(1, n):\n",
    "        pop1[i, :] = population[idx[i], :]\n",
    "        Vt1[i, :] = Vt[idx[i], :]\n",
    "        acc1[i, :] = acc[i, :]\n",
    "        time1[i] = time[i]\n",
    "    \n",
    "    return pop1, Vt1, acc1, time1"
   ]
  },
  {
   "cell_type": "code",
   "execution_count": null,
   "metadata": {},
   "outputs": [],
   "source": []
  }
 ],
 "metadata": {
  "interpreter": {
   "hash": "916dbcbb3f70747c44a77c7bcd40155683ae19c65e1c03b4aa3499c5328201f1"
  },
  "kernelspec": {
   "display_name": "Python 3.8.10 64-bit",
   "language": "python",
   "name": "python3"
  },
  "language_info": {
   "codemirror_mode": {
    "name": "ipython",
    "version": 3
   },
   "file_extension": ".py",
   "mimetype": "text/x-python",
   "name": "python",
   "nbconvert_exporter": "python",
   "pygments_lexer": "ipython3",
   "version": "3.8.10"
  },
  "orig_nbformat": 4
 },
 "nbformat": 4,
 "nbformat_minor": 2
}
